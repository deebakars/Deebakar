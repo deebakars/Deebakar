{
  "nbformat": 4,
  "nbformat_minor": 0,
  "metadata": {
    "colab": {
      "provenance": [],
      "authorship_tag": "ABX9TyNnBodQRiBbTAWlRtxhx4Vv",
      "include_colab_link": true
    },
    "kernelspec": {
      "name": "python3",
      "display_name": "Python 3"
    },
    "language_info": {
      "name": "python"
    }
  },
  "cells": [
    {
      "cell_type": "markdown",
      "metadata": {
        "id": "view-in-github",
        "colab_type": "text"
      },
      "source": [
        "<a href=\"https://colab.research.google.com/github/deebakars/Deebakar/blob/main/Session_2.ipynb\" target=\"_parent\"><img src=\"https://colab.research.google.com/assets/colab-badge.svg\" alt=\"Open In Colab\"/></a>"
      ]
    },
    {
      "cell_type": "code",
      "execution_count": 1,
      "metadata": {
        "colab": {
          "base_uri": "https://localhost:8080/"
        },
        "id": "d5qPEijLuza5",
        "outputId": "e8cabf44-7149-4b7d-b60f-90589a6b68ab"
      },
      "outputs": [
        {
          "output_type": "stream",
          "name": "stdout",
          "text": [
            "Hello World\n"
          ]
        }
      ],
      "source": [
        "print(\"Hello World\")"
      ]
    },
    {
      "cell_type": "code",
      "source": [
        "list1 = [1, 2, \"one\", \"hi\"]\n",
        "print(list1) # will print output as follows\n"
      ],
      "metadata": {
        "colab": {
          "base_uri": "https://localhost:8080/"
        },
        "id": "ahBP0NnIu7YD",
        "outputId": "0d67faf3-ff6c-43e1-a68f-8ee48eda617e"
      },
      "execution_count": 2,
      "outputs": [
        {
          "output_type": "stream",
          "name": "stdout",
          "text": [
            "[1, 2, 'one', 'hi']\n"
          ]
        }
      ]
    },
    {
      "cell_type": "code",
      "source": [
        "list2 = [4, 5, \"hello\"]\n",
        "print(list2[2][1]) # prints the value present at 1st index in list2\n"
      ],
      "metadata": {
        "colab": {
          "base_uri": "https://localhost:8080/"
        },
        "id": "gjDSEM9QwZKo",
        "outputId": "c2565bed-1d30-4d88-d68c-e3011b1900a4"
      },
      "execution_count": 4,
      "outputs": [
        {
          "output_type": "stream",
          "name": "stdout",
          "text": [
            "e\n"
          ]
        }
      ]
    },
    {
      "cell_type": "code",
      "source": [
        "l = [1, 4, 5, 7, 4, 15]\n",
        "print( l[2:4])\n"
      ],
      "metadata": {
        "colab": {
          "base_uri": "https://localhost:8080/"
        },
        "id": "iV6gmNdcw4NU",
        "outputId": "f4bfe356-35bc-4084-89a0-18272b8688d8"
      },
      "execution_count": 5,
      "outputs": [
        {
          "output_type": "stream",
          "name": "stdout",
          "text": [
            "[5, 7]\n"
          ]
        }
      ]
    },
    {
      "cell_type": "code",
      "source": [
        "l = [1, 4, 6, 22, 44, 12, 55, 66]\n",
        "print(l[3:-3])\n"
      ],
      "metadata": {
        "colab": {
          "base_uri": "https://localhost:8080/"
        },
        "id": "SK-_NKE9xinX",
        "outputId": "1a40d7cb-960b-470e-c873-62c5d4529eea"
      },
      "execution_count": 6,
      "outputs": [
        {
          "output_type": "stream",
          "name": "stdout",
          "text": [
            "[22, 44]\n"
          ]
        }
      ]
    },
    {
      "cell_type": "code",
      "source": [
        "l = [1, 4, 6, 22, 44, 12, 55, 66]\n",
        "print(l[3:])"
      ],
      "metadata": {
        "colab": {
          "base_uri": "https://localhost:8080/"
        },
        "id": "i99qrQB8xwbL",
        "outputId": "c6ddae1b-c6b6-4071-e31c-da8d1aa4f0a5"
      },
      "execution_count": 7,
      "outputs": [
        {
          "output_type": "stream",
          "name": "stdout",
          "text": [
            "[22, 44, 12, 55, 66]\n"
          ]
        }
      ]
    },
    {
      "cell_type": "code",
      "source": [
        "l = [1, 4, 6, 22, 44, 12, 55, 66]\n",
        "l[3:]\n"
      ],
      "metadata": {
        "colab": {
          "base_uri": "https://localhost:8080/"
        },
        "id": "jqbNvQ6DyBpK",
        "outputId": "46db9f63-349f-4b1a-9b5f-746344bb5ab5"
      },
      "execution_count": 8,
      "outputs": [
        {
          "output_type": "execute_result",
          "data": {
            "text/plain": [
              "[22, 44, 12, 55, 66]"
            ]
          },
          "metadata": {},
          "execution_count": 8
        }
      ]
    },
    {
      "cell_type": "code",
      "source": [
        "list1 = [1, 2, 'one', 'hi']\n",
        "list2 = [4, 5, 'hello']\n",
        "print(list1 + list2) # will print output as follows\n"
      ],
      "metadata": {
        "colab": {
          "base_uri": "https://localhost:8080/"
        },
        "id": "isudQYDlyO9q",
        "outputId": "18e79876-bfd3-4e08-b05c-0cb015f88093"
      },
      "execution_count": 9,
      "outputs": [
        {
          "output_type": "stream",
          "name": "stdout",
          "text": [
            "[1, 2, 'one', 'hi', 4, 5, 'hello']\n"
          ]
        }
      ]
    },
    {
      "cell_type": "code",
      "source": [
        "list2 = [4, 5, 'hello']\n",
        "print(2 * list2) # will print output as follows\n"
      ],
      "metadata": {
        "colab": {
          "base_uri": "https://localhost:8080/"
        },
        "id": "jR9EJUV2yYca",
        "outputId": "735028ea-375d-4845-abaf-5ce5572d4f78"
      },
      "execution_count": 10,
      "outputs": [
        {
          "output_type": "stream",
          "name": "stdout",
          "text": [
            "[4, 5, 'hello', 4, 5, 'hello']\n"
          ]
        }
      ]
    },
    {
      "cell_type": "code",
      "source": [
        "list2 = [4, 5, 'hello']\n",
        "print(2 * list2) # will print output as follows\n"
      ],
      "metadata": {
        "colab": {
          "base_uri": "https://localhost:8080/"
        },
        "id": "sD-IgFShyf6_",
        "outputId": "8ad2be27-be71-4515-cdda-6a82f9eb0879"
      },
      "execution_count": 11,
      "outputs": [
        {
          "output_type": "stream",
          "name": "stdout",
          "text": [
            "[4, 5, 'hello', 4, 5, 'hello']\n"
          ]
        }
      ]
    },
    {
      "cell_type": "code",
      "source": [
        "list1 = [23, 5.65, [\"A\", 34.23], \"India\"]\n",
        "print(list1[2] [1] )\n"
      ],
      "metadata": {
        "colab": {
          "base_uri": "https://localhost:8080/"
        },
        "id": "9N-p5Nj6yrHC",
        "outputId": "09798799-9bff-427c-89b8-be81bde886cf"
      },
      "execution_count": 12,
      "outputs": [
        {
          "output_type": "stream",
          "name": "stdout",
          "text": [
            "34.23\n"
          ]
        }
      ]
    },
    {
      "cell_type": "code",
      "source": [
        "chars = ['a', 'b', 'c', 'd']\n",
        "chars[3] = 'xyz'\n",
        "print(chars) # will print output as follows\n"
      ],
      "metadata": {
        "colab": {
          "base_uri": "https://localhost:8080/"
        },
        "id": "HuLnqoPuy03s",
        "outputId": "93241fcb-d32b-4490-ec00-5542c20f7d54"
      },
      "execution_count": 13,
      "outputs": [
        {
          "output_type": "stream",
          "name": "stdout",
          "text": [
            "['a', 'b', 'c', 'xyz']\n"
          ]
        }
      ]
    },
    {
      "cell_type": "code",
      "source": [
        "chars = ['a', 'b', 'c', 'd']\n",
        "chars.append(\"abcd\")\n",
        "print(chars) # will print output as follows\n"
      ],
      "metadata": {
        "colab": {
          "base_uri": "https://localhost:8080/"
        },
        "id": "wvMKBgTmy_lK",
        "outputId": "afaae566-5343-4db7-d81c-f3ed7ceec4d4"
      },
      "execution_count": 14,
      "outputs": [
        {
          "output_type": "stream",
          "name": "stdout",
          "text": [
            "['a', 'b', 'c', 'd', 'abcd']\n"
          ]
        }
      ]
    },
    {
      "cell_type": "code",
      "source": [
        "chars = ['a', 'b', 'c', 'd']\n",
        "chars.append( ['e', 'f'])  # This will append the list ['e', 'f'] as the last item to the chars list.  \n",
        "print(chars) # will print output as follows\n"
      ],
      "metadata": {
        "colab": {
          "base_uri": "https://localhost:8080/"
        },
        "id": "afYd_yLJzME2",
        "outputId": "bd28b347-fa6e-43ec-cdce-1b190698394b"
      },
      "execution_count": 15,
      "outputs": [
        {
          "output_type": "stream",
          "name": "stdout",
          "text": [
            "['a', 'b', 'c', 'd', ['e', 'f']]\n"
          ]
        }
      ]
    },
    {
      "cell_type": "code",
      "source": [
        "chars = ['a', 'b', 'c', 'd']\n",
        "list2 = [1, 2, 3]\n",
        "chars.extend(list2)\n",
        "print(chars) # will print output as follows\n"
      ],
      "metadata": {
        "colab": {
          "base_uri": "https://localhost:8080/"
        },
        "id": "XBOESo8KzX4s",
        "outputId": "80065428-693f-4383-adb4-22225ed92a27"
      },
      "execution_count": 16,
      "outputs": [
        {
          "output_type": "stream",
          "name": "stdout",
          "text": [
            "['a', 'b', 'c', 'd', 1, 2, 3]\n"
          ]
        }
      ]
    },
    {
      "cell_type": "code",
      "source": [
        "myset = set()\n",
        "print(myset) # will print empty set.\n",
        "print(type(myset)) # will print type of myset.\n"
      ],
      "metadata": {
        "colab": {
          "base_uri": "https://localhost:8080/"
        },
        "id": "yBQ7Zp7Czgnm",
        "outputId": "cb1f900e-0a89-4437-a38f-24ab1681de73"
      },
      "execution_count": 17,
      "outputs": [
        {
          "output_type": "stream",
          "name": "stdout",
          "text": [
            "set()\n",
            "<class 'set'>\n"
          ]
        }
      ]
    },
    {
      "cell_type": "code",
      "source": [
        "myset1 = {1, 2, 3} \n",
        "print(myset1) # will print the elements of a set.\n",
        "print(type(myset1)) # will print type of myset1.\n"
      ],
      "metadata": {
        "colab": {
          "base_uri": "https://localhost:8080/"
        },
        "id": "1Wa0f8ND0JN8",
        "outputId": "cfacc76f-9c6f-40bf-a91a-aec89b12d00e"
      },
      "execution_count": 18,
      "outputs": [
        {
          "output_type": "stream",
          "name": "stdout",
          "text": [
            "{1, 2, 3}\n",
            "<class 'set'>\n"
          ]
        }
      ]
    },
    {
      "cell_type": "code",
      "source": [
        "chars = {'a', 'b', 'c', 'd'}\n",
        "chars[3] = 'xyz'\n",
        "print(chars)\n"
      ],
      "metadata": {
        "colab": {
          "base_uri": "https://localhost:8080/",
          "height": 201
        },
        "id": "vTxRwz4C0TZ5",
        "outputId": "80288ad9-5cde-4d46-e0e3-06fd5e0af541"
      },
      "execution_count": 19,
      "outputs": [
        {
          "output_type": "error",
          "ename": "TypeError",
          "evalue": "ignored",
          "traceback": [
            "\u001b[0;31m---------------------------------------------------------------------------\u001b[0m",
            "\u001b[0;31mTypeError\u001b[0m                                 Traceback (most recent call last)",
            "\u001b[0;32m<ipython-input-19-70ea83c05941>\u001b[0m in \u001b[0;36m<module>\u001b[0;34m\u001b[0m\n\u001b[1;32m      1\u001b[0m \u001b[0mchars\u001b[0m \u001b[0;34m=\u001b[0m \u001b[0;34m{\u001b[0m\u001b[0;34m'a'\u001b[0m\u001b[0;34m,\u001b[0m \u001b[0;34m'b'\u001b[0m\u001b[0;34m,\u001b[0m \u001b[0;34m'c'\u001b[0m\u001b[0;34m,\u001b[0m \u001b[0;34m'd'\u001b[0m\u001b[0;34m}\u001b[0m\u001b[0;34m\u001b[0m\u001b[0;34m\u001b[0m\u001b[0m\n\u001b[0;32m----> 2\u001b[0;31m \u001b[0mchars\u001b[0m\u001b[0;34m[\u001b[0m\u001b[0;36m3\u001b[0m\u001b[0;34m]\u001b[0m \u001b[0;34m=\u001b[0m \u001b[0;34m'xyz'\u001b[0m\u001b[0;34m\u001b[0m\u001b[0;34m\u001b[0m\u001b[0m\n\u001b[0m\u001b[1;32m      3\u001b[0m \u001b[0mprint\u001b[0m\u001b[0;34m(\u001b[0m\u001b[0mchars\u001b[0m\u001b[0;34m)\u001b[0m\u001b[0;34m\u001b[0m\u001b[0;34m\u001b[0m\u001b[0m\n",
            "\u001b[0;31mTypeError\u001b[0m: 'set' object does not support item assignment"
          ]
        }
      ]
    },
    {
      "cell_type": "code",
      "source": [
        "chars.add(\"F\")\n",
        "print(chars)\n"
      ],
      "metadata": {
        "colab": {
          "base_uri": "https://localhost:8080/"
        },
        "id": "pS4otFT30jvc",
        "outputId": "737f13fb-158f-4ec2-d0bf-039c599a5502"
      },
      "execution_count": 23,
      "outputs": [
        {
          "output_type": "stream",
          "name": "stdout",
          "text": [
            "{'d', 'b', 'F'}\n"
          ]
        }
      ]
    },
    {
      "cell_type": "code",
      "source": [
        "print(chars.pop())\n"
      ],
      "metadata": {
        "colab": {
          "base_uri": "https://localhost:8080/"
        },
        "id": "Ujttsx0k00Nd",
        "outputId": "e99e4de0-145b-46ba-90fb-e72c7c1d304e"
      },
      "execution_count": 24,
      "outputs": [
        {
          "output_type": "stream",
          "name": "stdout",
          "text": [
            "d\n"
          ]
        }
      ]
    },
    {
      "cell_type": "code",
      "source": [
        "tuple1 = tuple() # Creating an empty tuple using tuple() function\n",
        "print(tuple1) # Printing tuple1\n"
      ],
      "metadata": {
        "colab": {
          "base_uri": "https://localhost:8080/"
        },
        "id": "z7rHVtDK0_HK",
        "outputId": "eec597f9-656b-4df6-d864-89ecaa0fdb1f"
      },
      "execution_count": 25,
      "outputs": [
        {
          "output_type": "stream",
          "name": "stdout",
          "text": [
            "()\n"
          ]
        }
      ]
    },
    {
      "cell_type": "code",
      "source": [
        "mytuple = (1, 2, 3, \"Data types\") # mytuple = 1, 2, 3, \"Data types\" will also work.\n",
        "print(mytuple)\n",
        "print(type(mytuple))\n"
      ],
      "metadata": {
        "colab": {
          "base_uri": "https://localhost:8080/"
        },
        "id": "pvXd-gfE1gFg",
        "outputId": "91797105-5eb6-4bc3-d539-60dd09a0ee28"
      },
      "execution_count": 26,
      "outputs": [
        {
          "output_type": "stream",
          "name": "stdout",
          "text": [
            "(1, 2, 3, 'Data types')\n",
            "<class 'tuple'>\n"
          ]
        }
      ]
    },
    {
      "cell_type": "code",
      "source": [
        "\n",
        "\n",
        "mytuple = (1,)\n",
        "print(mytuple) # Will print tuple (1,) \n",
        "print(type(mytuple)) # will print output as follows\n"
      ],
      "metadata": {
        "colab": {
          "base_uri": "https://localhost:8080/"
        },
        "id": "NC3n_imJ1xdT",
        "outputId": "3ad5fc94-0a88-4dd9-9221-e2b1229bf510"
      },
      "execution_count": 27,
      "outputs": [
        {
          "output_type": "stream",
          "name": "stdout",
          "text": [
            "(1,)\n",
            "<class 'tuple'>\n"
          ]
        }
      ]
    },
    {
      "cell_type": "code",
      "source": [
        "tuple1 = (\"hi\", \"hello\", 55, 66)\n",
        "print(tuple1[0]) # Printing the element at the  0th index of the tuple, tuple1\n"
      ],
      "metadata": {
        "colab": {
          "base_uri": "https://localhost:8080/"
        },
        "id": "oobTdjgI2G9H",
        "outputId": "ae843c63-6562-4ff4-8ca8-877a236d7994"
      },
      "execution_count": 28,
      "outputs": [
        {
          "output_type": "stream",
          "name": "stdout",
          "text": [
            "hi\n"
          ]
        }
      ]
    },
    {
      "cell_type": "code",
      "source": [
        "tuple1 = (\"hi\", \"hello\", 55, 66)\n",
        "print(tuple1[-2]) # Printing the element at the  0th index of the tuple, tuple1\n"
      ],
      "metadata": {
        "colab": {
          "base_uri": "https://localhost:8080/"
        },
        "id": "wzN8IaCr2V3Q",
        "outputId": "6573d139-8c4d-470d-8117-add7ac7dc80a"
      },
      "execution_count": 29,
      "outputs": [
        {
          "output_type": "stream",
          "name": "stdout",
          "text": [
            "55\n"
          ]
        }
      ]
    },
    {
      "cell_type": "code",
      "source": [
        "tuple1 = ('hi', 'hello', 55, 66) # Creating a tuple, tuple1\n",
        "print(tuple1) # Printing tuple1 , output contains values enclosed in parentheses indicating a tuple\n",
        "print(type(tuple1)) # Printing the type of tuple1\n",
        "\n",
        "list1 = list(tuple1) # Converting the tuple1 into a list using list() function.\n",
        "print(list1) # Printing list1 , output contains values enclosed in square brackets indicating a tuple\n",
        "print(type(list1))\n"
      ],
      "metadata": {
        "colab": {
          "base_uri": "https://localhost:8080/"
        },
        "id": "-8GTBGnV2aMB",
        "outputId": "5a7fba69-6537-4010-8dff-33cf0cda23bb"
      },
      "execution_count": 30,
      "outputs": [
        {
          "output_type": "stream",
          "name": "stdout",
          "text": [
            "('hi', 'hello', 55, 66)\n",
            "<class 'tuple'>\n",
            "['hi', 'hello', 55, 66]\n",
            "<class 'list'>\n"
          ]
        }
      ]
    },
    {
      "cell_type": "code",
      "source": [
        "tuple1 = ('hi', 'hello', 55, 66) # Creating a tuple, tuple1\n",
        "print(\"Given tuple :\",tuple1) \n",
        "list1 = list(tuple1) # Converting the tuple to a list using built-in list() function.\n",
        "print(\"After conversion of tuple to list :\",list1) \n",
        "list1[2] = \"fifty five\"  # Updating the value of element at 2nd index. This does not result in an error as the lists are mutable.\n",
        "print(\"List after changing the element :\",list1) \n",
        "tuple1 = tuple(list1)  # Converting the list back to tuple using the built-in tuple() method.\n",
        "print(\"After converting list into tuple :\",tuple1) # Printing the final tuple with the updated element\n"
      ],
      "metadata": {
        "colab": {
          "base_uri": "https://localhost:8080/"
        },
        "id": "pDDd4XCo2y0a",
        "outputId": "b66afd5c-9403-4a69-8c62-f75bf64cf20b"
      },
      "execution_count": 31,
      "outputs": [
        {
          "output_type": "stream",
          "name": "stdout",
          "text": [
            "Given tuple : ('hi', 'hello', 55, 66)\n",
            "After conversion of tuple to list : ['hi', 'hello', 55, 66]\n",
            "List after changing the element : ['hi', 'hello', 'fifty five', 66]\n",
            "After converting list into tuple : ('hi', 'hello', 'fifty five', 66)\n"
          ]
        }
      ]
    },
    {
      "cell_type": "code",
      "source": [
        "# 1. Using built-in dict() function.\n",
        "mydict = dict() # Creating an empty dictionary called mydict\n",
        "print(type(mydict)) # Printing data type of mydict.\n",
        "print(mydict)  # Prints empty dictionary.\n"
      ],
      "metadata": {
        "colab": {
          "base_uri": "https://localhost:8080/"
        },
        "id": "NzSUpNJd3IHy",
        "outputId": "3f093ba8-a5a0-4c73-8095-be013e269f44"
      },
      "execution_count": 32,
      "outputs": [
        {
          "output_type": "stream",
          "name": "stdout",
          "text": [
            "<class 'dict'>\n",
            "{}\n"
          ]
        }
      ]
    },
    {
      "cell_type": "code",
      "source": [
        "mydict = dict(Hyderabad = 20, Delhi = 30) # A dictionary with two key pairs is created.\n",
        "print(mydict) # Prints the dictionary\n"
      ],
      "metadata": {
        "colab": {
          "base_uri": "https://localhost:8080/"
        },
        "id": "ZGYInutj3q46",
        "outputId": "5836d6a6-c7b6-4e60-b6b8-f4fb7190a05c"
      },
      "execution_count": 33,
      "outputs": [
        {
          "output_type": "stream",
          "name": "stdout",
          "text": [
            "{'Hyderabad': 20, 'Delhi': 30}\n"
          ]
        }
      ]
    },
    {
      "cell_type": "code",
      "source": [
        "mydict = {1:\"one\", 2 :\"two\", 3:\"three\"}  # Create a dictionary with three key-value pairs.\n",
        "print(mydict) # Printing the dictionary\n",
        "print(type(mydict)) # will print output as follows\n"
      ],
      "metadata": {
        "colab": {
          "base_uri": "https://localhost:8080/"
        },
        "id": "DO6ac3b537Pi",
        "outputId": "fdf60071-feb4-4f92-d78f-077f77f462cb"
      },
      "execution_count": 34,
      "outputs": [
        {
          "output_type": "stream",
          "name": "stdout",
          "text": [
            "{1: 'one', 2: 'two', 3: 'three'}\n",
            "<class 'dict'>\n"
          ]
        }
      ]
    },
    {
      "cell_type": "code",
      "source": [
        "# 1. Using the keys of the dictionary.\n",
        "capitals = {\"U.S.A\" : \"Washington D.C\", \"India\" : \"New Delhi\", \"Nepal\" : \"Khatmandu\"} # Creating a dictionary, \n",
        "print(capitals[\"India\"]) # Printing the value with the key \"India\" i.e. \"New Delhi\".\n",
        "print(capitals[\"Nepal\"]) # Printing the value with the key \"Nepal\" i.e. \"Khatmandu\".\n"
      ],
      "metadata": {
        "colab": {
          "base_uri": "https://localhost:8080/"
        },
        "id": "3atwBH504BuI",
        "outputId": "5b3f6209-5610-4cb0-b432-5ae376209989"
      },
      "execution_count": 35,
      "outputs": [
        {
          "output_type": "stream",
          "name": "stdout",
          "text": [
            "New Delhi\n",
            "Khatmandu\n"
          ]
        }
      ]
    },
    {
      "cell_type": "code",
      "source": [
        "capitals = {\"U.S.A\" : \"Washington D.C\", \"India\" : \"New Delhi\", \"Nepal\" : \"Khatmandu\"} # Creating a dictionary, \n",
        "print(capitals[\"India\"]) # Printing the value with the key \"India\" i.e. \"New Delhi\".\n",
        "print(capitals[\"U.S.A\"]) # Since the key \"Australia\" is not present, it re\n"
      ],
      "metadata": {
        "colab": {
          "base_uri": "https://localhost:8080/"
        },
        "id": "ZsnNq48T4b3Z",
        "outputId": "debc5f91-7116-4cf3-b545-eb3c57cae1c1"
      },
      "execution_count": 37,
      "outputs": [
        {
          "output_type": "stream",
          "name": "stdout",
          "text": [
            "New Delhi\n",
            "Washington D.C\n"
          ]
        }
      ]
    },
    {
      "cell_type": "code",
      "source": [
        "capitals = {\"U.S.A\" : \"Washington D.C\", \"India\" : \"New Delhi\", \"Nepal\" : \"Khatmandu\"} # Creating a dictionary, \n",
        "print(capitals.get(\"India\")) # Printing the value with the key \"India\" i.e. \"New Delhi\".\n",
        "print(capitals.get(\"Nepal\")) # Printing the value with the key \"Nepal\" i.e.\n"
      ],
      "metadata": {
        "colab": {
          "base_uri": "https://localhost:8080/"
        },
        "id": "phf8GIm_4qzO",
        "outputId": "d61d85ea-bd07-4594-df38-4104533fe5f1"
      },
      "execution_count": 38,
      "outputs": [
        {
          "output_type": "stream",
          "name": "stdout",
          "text": [
            "New Delhi\n",
            "Khatmandu\n"
          ]
        }
      ]
    },
    {
      "cell_type": "code",
      "source": [],
      "metadata": {
        "id": "SPO423dL47B8"
      },
      "execution_count": null,
      "outputs": []
    }
  ]
}