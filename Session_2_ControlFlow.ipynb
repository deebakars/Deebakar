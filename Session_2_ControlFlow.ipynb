{
  "nbformat": 4,
  "nbformat_minor": 0,
  "metadata": {
    "colab": {
      "provenance": [],
      "authorship_tag": "ABX9TyPz9yMXapw+zzExYJqtOxnI",
      "include_colab_link": true
    },
    "kernelspec": {
      "name": "python3",
      "display_name": "Python 3"
    },
    "language_info": {
      "name": "python"
    }
  },
  "cells": [
    {
      "cell_type": "markdown",
      "metadata": {
        "id": "view-in-github",
        "colab_type": "text"
      },
      "source": [
        "<a href=\"https://colab.research.google.com/github/deebakars/Deebakar/blob/main/Session_2_ControlFlow.ipynb\" target=\"_parent\"><img src=\"https://colab.research.google.com/assets/colab-badge.svg\" alt=\"Open In Colab\"/></a>"
      ]
    },
    {
      "cell_type": "code",
      "execution_count": 2,
      "metadata": {
        "colab": {
          "base_uri": "https://localhost:8080/"
        },
        "id": "qHMn4_HZ5bF6",
        "outputId": "8b689582-b548-4b3f-fe1c-830df860430f"
      },
      "outputs": [
        {
          "output_type": "stream",
          "name": "stdout",
          "text": [
            "Enter a number: 2\n",
            "End of program\n"
          ]
        }
      ],
      "source": [
        "num = int(input(\"Enter a number: \"))\n",
        "if (num % 3 == 0):\n",
        "  print(\"Given number %d is divisible by 3\" %num) # Notice the Indentation\n",
        "print(\"End of program\")\n"
      ]
    },
    {
      "cell_type": "code",
      "source": [
        "marks=80\n",
        "distinction_marks=75\n",
        "if(marks > distinction_marks):\n",
        "\tprint(\"User secured distinction\")\n",
        "else:\n",
        "\tprint(\"User did not secure distinction\")\n"
      ],
      "metadata": {
        "colab": {
          "base_uri": "https://localhost:8080/"
        },
        "id": "f_kKJliL6l0j",
        "outputId": "7110f0e4-49e3-44b6-dee5-a28e43c33da0"
      },
      "execution_count": 4,
      "outputs": [
        {
          "output_type": "stream",
          "name": "stdout",
          "text": [
            "User secured distinction\n"
          ]
        }
      ]
    },
    {
      "cell_type": "code",
      "source": [
        "# if-elif statement example\n",
        "\n",
        "letter = (input(\" Enter a Character\"))\n",
        "\n",
        "if letter == 'B':\n",
        "  print(\"letter is B\")\n",
        "\n",
        "elif letter == \"C\":\n",
        "  print(\"letter is C\")\n",
        "\n",
        "elif letter == \"A\":\n",
        "  print(\"letter is A\")\n",
        "\n",
        "else:\n",
        "  print(\"letter isn't A, B or C\")\n"
      ],
      "metadata": {
        "colab": {
          "base_uri": "https://localhost:8080/"
        },
        "id": "Hch_oFZ08CrX",
        "outputId": "3d2d295f-c312-44c9-d4a2-41e6f45d52ca"
      },
      "execution_count": 6,
      "outputs": [
        {
          "output_type": "stream",
          "name": "stdout",
          "text": [
            " Enter a CharacterZ\n",
            "letter isn't A, B or C\n"
          ]
        }
      ]
    },
    {
      "cell_type": "code",
      "source": [
        "num=1\n",
        "while (num <=5):\n",
        "  print(\"num :%d\" %num)\n",
        "  num= num+1"
      ],
      "metadata": {
        "colab": {
          "base_uri": "https://localhost:8080/"
        },
        "id": "ofER4K6Q8m4G",
        "outputId": "07fe76cf-ba77-41fb-dcfa-d3f6eb5bae86"
      },
      "execution_count": 7,
      "outputs": [
        {
          "output_type": "stream",
          "name": "stdout",
          "text": [
            "num :1\n",
            "num :2\n",
            "num :3\n",
            "num :4\n",
            "num :5\n"
          ]
        }
      ]
    },
    {
      "cell_type": "code",
      "source": [
        "n = 10\n",
        "\n",
        "# initialize sum and counter\n",
        "sum = 0\n",
        "i = 1\n",
        "\n",
        "while i <= n:\n",
        "    sum = sum + i\n",
        "    i = i+1    # update counter\n",
        "\n",
        "# print the sum\n",
        "print(\"The sum is\", sum)\n"
      ],
      "metadata": {
        "colab": {
          "base_uri": "https://localhost:8080/"
        },
        "id": "JxdrbX8591p2",
        "outputId": "735e8371-aad0-46f7-d1d4-014b8e43c277"
      },
      "execution_count": 8,
      "outputs": [
        {
          "output_type": "stream",
          "name": "stdout",
          "text": [
            "The sum is 55\n"
          ]
        }
      ]
    },
    {
      "cell_type": "code",
      "source": [
        "# Python program to illustrate\n",
        "# while loop\n",
        "count = 0\n",
        "while (count < 3):\n",
        "\tcount = count + 1\n",
        "\tprint(\"Hello Students\")\n"
      ],
      "metadata": {
        "colab": {
          "base_uri": "https://localhost:8080/"
        },
        "id": "-LVjglYS-S5h",
        "outputId": "4b59f41a-5cc7-496f-8722-111cac087d5f"
      },
      "execution_count": 9,
      "outputs": [
        {
          "output_type": "stream",
          "name": "stdout",
          "text": [
            "Hello Students\n",
            "Hello Students\n",
            "Hello Students\n"
          ]
        }
      ]
    },
    {
      "cell_type": "code",
      "source": [
        "counter = 0\n",
        "\n",
        "while counter < 3:\n",
        "    print(\"Inside loop :\", counter)\n",
        "    counter = counter + 1\n",
        "else:\n",
        "  print(\"Inside else\")\n"
      ],
      "metadata": {
        "colab": {
          "base_uri": "https://localhost:8080/"
        },
        "id": "QNRFsnzB-roQ",
        "outputId": "a4b6a98c-4a33-4c82-c888-07012f59ae5e"
      },
      "execution_count": 10,
      "outputs": [
        {
          "output_type": "stream",
          "name": "stdout",
          "text": [
            "Inside loop : 0\n",
            "Inside loop : 1\n",
            "Inside loop : 2\n",
            "Inside else\n"
          ]
        }
      ]
    },
    {
      "cell_type": "code",
      "source": [
        "counter = 0\n",
        "\n",
        "while counter < 3:\n",
        "    print(\"Inside loop :\", counter)\n",
        "    counter = counter + 1\n",
        "\n"
      ],
      "metadata": {
        "colab": {
          "base_uri": "https://localhost:8080/"
        },
        "id": "Ko3Dnj3-_BJV",
        "outputId": "aaa88e96-ef1d-4e00-f1c8-098c3e3b8602"
      },
      "execution_count": 11,
      "outputs": [
        {
          "output_type": "stream",
          "name": "stdout",
          "text": [
            "Inside loop : 0\n",
            "Inside loop : 1\n",
            "Inside loop : 2\n"
          ]
        }
      ]
    },
    {
      "cell_type": "code",
      "source": [
        "counter = 0\n",
        "\n",
        "while counter < 3:\n",
        "    print(\"Inside loop :\", counter)\n",
        "    counter = counter + 1\n",
        "\n",
        "print(\"Inside else\")\n"
      ],
      "metadata": {
        "colab": {
          "base_uri": "https://localhost:8080/"
        },
        "id": "Q1DlZs4u_L5L",
        "outputId": "bc73dbf9-aa5e-49b5-c612-4152f7a250f3"
      },
      "execution_count": 12,
      "outputs": [
        {
          "output_type": "stream",
          "name": "stdout",
          "text": [
            "Inside loop : 0\n",
            "Inside loop : 1\n",
            "Inside loop : 2\n",
            "Inside else\n"
          ]
        }
      ]
    },
    {
      "cell_type": "code",
      "source": [
        "num1 = 17  \n",
        "num2 = -12  \n",
        "   \n",
        "while num1 > 5 and num2 < -5 : # multiple conditions in a single while loop  \n",
        "    num1 -= 2  \n",
        "    num2 += 3  \n",
        "    print( (num1, num2) )\n"
      ],
      "metadata": {
        "colab": {
          "base_uri": "https://localhost:8080/"
        },
        "id": "O6DT2qE7_XiK",
        "outputId": "00dfb1cd-de4f-4a1f-a6d1-039fe0328bd4"
      },
      "execution_count": 13,
      "outputs": [
        {
          "output_type": "stream",
          "name": "stdout",
          "text": [
            "(15, -9)\n",
            "(13, -6)\n",
            "(11, -3)\n"
          ]
        }
      ]
    },
    {
      "cell_type": "code",
      "source": [
        "items = \"Deebakar\"\n",
        "index = 0            \n",
        "for item in items:   \n",
        "\tprint(index, item)\n",
        "\tindex += 1\n"
      ],
      "metadata": {
        "colab": {
          "base_uri": "https://localhost:8080/"
        },
        "id": "uk50iVnR_pMo",
        "outputId": "54e015ad-52b3-43de-fba6-782cd3c2493c"
      },
      "execution_count": 15,
      "outputs": [
        {
          "output_type": "stream",
          "name": "stdout",
          "text": [
            "0 D\n",
            "1 e\n",
            "2 e\n",
            "3 b\n",
            "4 a\n",
            "5 k\n",
            "6 a\n",
            "7 r\n"
          ]
        }
      ]
    },
    {
      "cell_type": "code",
      "source": [
        "# List of numbers\n",
        "numbers = [6, 5, 3, 8, 4, 2, 5, 4, 11]\n",
        "\n",
        "# variable to store the sum\n",
        "sum = 0\n",
        "\n",
        "# iterate over the list\n",
        "for val in numbers:\n",
        "    sum = sum+val\n",
        "\n",
        "print(\"The sum is\", sum)\n"
      ],
      "metadata": {
        "colab": {
          "base_uri": "https://localhost:8080/"
        },
        "id": "CWhwMTP5APTP",
        "outputId": "291bee7c-b74d-4614-e98c-36bbb34396ac"
      },
      "execution_count": 16,
      "outputs": [
        {
          "output_type": "stream",
          "name": "stdout",
          "text": [
            "The sum is 48\n"
          ]
        }
      ]
    },
    {
      "cell_type": "code",
      "source": [
        "# A simple for loop example\n",
        "\n",
        "fruits = [\"apple\", \"orange\", \"kiwi\"]\n",
        "\n",
        "for fruit in fruits:\n",
        "  print(fruit)\n"
      ],
      "metadata": {
        "colab": {
          "base_uri": "https://localhost:8080/"
        },
        "id": "hd-HJtNoAjq2",
        "outputId": "455c2dc9-609c-4cd0-c953-ee8a3e4e8002"
      },
      "execution_count": 17,
      "outputs": [
        {
          "output_type": "stream",
          "name": "stdout",
          "text": [
            "apple\n",
            "orange\n",
            "kiwi\n"
          ]
        }
      ]
    },
    {
      "cell_type": "code",
      "source": [
        "marks=[50,60,70,75,80]\n",
        "print(\" Display complete  list\")\n",
        "\n",
        "for num in marks:\n",
        "  print(num+1)\n"
      ],
      "metadata": {
        "colab": {
          "base_uri": "https://localhost:8080/"
        },
        "id": "8KWZqC5JAxXM",
        "outputId": "2c5dbb8b-f2b0-4751-e95f-525371aa7dd8"
      },
      "execution_count": 18,
      "outputs": [
        {
          "output_type": "stream",
          "name": "stdout",
          "text": [
            " Display complete  list\n",
            "51\n",
            "61\n",
            "71\n",
            "76\n",
            "81\n"
          ]
        }
      ]
    },
    {
      "cell_type": "code",
      "source": [
        "for i in range(6):\n",
        "\tprint(i)\n"
      ],
      "metadata": {
        "colab": {
          "base_uri": "https://localhost:8080/"
        },
        "id": "4ic5hxm7A1HH",
        "outputId": "f44a716f-d780-48d3-cd4c-d7006633e3b9"
      },
      "execution_count": 19,
      "outputs": [
        {
          "output_type": "stream",
          "name": "stdout",
          "text": [
            "0\n",
            "1\n",
            "2\n",
            "3\n",
            "4\n",
            "5\n"
          ]
        }
      ]
    },
    {
      "cell_type": "code",
      "source": [
        "for i in range(1, 6):\n",
        "\tprint(i)\n"
      ],
      "metadata": {
        "colab": {
          "base_uri": "https://localhost:8080/"
        },
        "id": "zwLwGksyBKyo",
        "outputId": "c2c2e8b2-124c-4575-b9bf-08f7f3681404"
      },
      "execution_count": 20,
      "outputs": [
        {
          "output_type": "stream",
          "name": "stdout",
          "text": [
            "1\n",
            "2\n",
            "3\n",
            "4\n",
            "5\n"
          ]
        }
      ]
    },
    {
      "cell_type": "code",
      "source": [
        "for val in range(0, 11):\n",
        "  print(val)\n"
      ],
      "metadata": {
        "colab": {
          "base_uri": "https://localhost:8080/"
        },
        "id": "fXEMjKiPBQw0",
        "outputId": "7a8b7e88-2bf9-4cc4-e6e2-cd21f3ed7a53"
      },
      "execution_count": 21,
      "outputs": [
        {
          "output_type": "stream",
          "name": "stdout",
          "text": [
            "0\n",
            "1\n",
            "2\n",
            "3\n",
            "4\n",
            "5\n",
            "6\n",
            "7\n",
            "8\n",
            "9\n",
            "10\n"
          ]
        }
      ]
    },
    {
      "cell_type": "code",
      "source": [
        "digits=[1,2,3,4]\n",
        "for item in digits: \n",
        "\tprint(item)\n",
        "else:\n",
        "\tprint(\"no items left\")\n"
      ],
      "metadata": {
        "colab": {
          "base_uri": "https://localhost:8080/"
        },
        "id": "mj9roSWPBcIM",
        "outputId": "a9a8803f-10e2-48b9-f9bf-a7799f394e8f"
      },
      "execution_count": 22,
      "outputs": [
        {
          "output_type": "stream",
          "name": "stdout",
          "text": [
            "1\n",
            "2\n",
            "3\n",
            "4\n",
            "no items left\n"
          ]
        }
      ]
    },
    {
      "cell_type": "markdown",
      "source": [
        "# New Section"
      ],
      "metadata": {
        "id": "52Iub3TpCFRT"
      }
    },
    {
      "cell_type": "markdown",
      "source": [
        "# New Section"
      ],
      "metadata": {
        "id": "0n2oe00PCFxm"
      }
    },
    {
      "cell_type": "code",
      "source": [
        "def nothing():\n",
        "  pass\n",
        "print(\"function dose not contain any Body\")\n"
      ],
      "metadata": {
        "colab": {
          "base_uri": "https://localhost:8080/"
        },
        "id": "ixb7C5NVBvSH",
        "outputId": "cac3d9a1-52a2-4d8a-90bd-b08edafbf61b"
      },
      "execution_count": 23,
      "outputs": [
        {
          "output_type": "stream",
          "name": "stdout",
          "text": [
            "function dose not contain any Body\n"
          ]
        }
      ]
    },
    {
      "cell_type": "code",
      "source": [],
      "metadata": {
        "id": "TmpwS2olCDak"
      },
      "execution_count": null,
      "outputs": []
    }
  ]
}