{
  "nbformat": 4,
  "nbformat_minor": 0,
  "metadata": {
    "colab": {
      "provenance": [],
      "authorship_tag": "ABX9TyP9E3IviTylNVogZma4Tlac",
      "include_colab_link": true
    },
    "kernelspec": {
      "name": "python3",
      "display_name": "Python 3"
    },
    "language_info": {
      "name": "python"
    }
  },
  "cells": [
    {
      "cell_type": "markdown",
      "metadata": {
        "id": "view-in-github",
        "colab_type": "text"
      },
      "source": [
        "<a href=\"https://colab.research.google.com/github/deebakars/Deebakar/blob/main/PYTHON_session_1.ipynb\" target=\"_parent\"><img src=\"https://colab.research.google.com/assets/colab-badge.svg\" alt=\"Open In Colab\"/></a>"
      ]
    },
    {
      "cell_type": "code",
      "execution_count": null,
      "metadata": {
        "colab": {
          "base_uri": "https://localhost:8080/"
        },
        "id": "yWllPJcIj2t4",
        "outputId": "a3bb62a5-a43a-43d7-85a4-a02f76d945c5"
      },
      "outputs": [
        {
          "output_type": "stream",
          "name": "stdout",
          "text": [
            "hellp\n"
          ]
        }
      ],
      "source": [
        "print(\"hellp\")\n"
      ]
    },
    {
      "cell_type": "code",
      "source": [
        "def add(a, b): \n",
        "\t\"\"\"Return gcd of the given arguments.\n",
        "\n",
        "\ta -- blah blah blah\n",
        "\tb -- blah blah blah blah\n",
        "\t\"\"\"\n",
        "\treturn a + b\n",
        "print(add.__doc__)\n"
      ],
      "metadata": {
        "colab": {
          "base_uri": "https://localhost:8080/"
        },
        "id": "7gcI-9g6kFwn",
        "outputId": "21265cae-f1e5-44b4-cfa6-cfe8457d4195"
      },
      "execution_count": null,
      "outputs": [
        {
          "output_type": "stream",
          "name": "stdout",
          "text": [
            "Return gcd of the given arguments.\n",
            "\n",
            "\ta -- blah blah blah\n",
            "\tb -- blah blah blah blah\n",
            "\t\n"
          ]
        }
      ]
    },
    {
      "cell_type": "code",
      "source": [
        "import keyword\t \t\t# This statement is used to import keyword module.\n",
        "print(keyword.kwlist)\t# kwlist contains all the keywords of Python\n"
      ],
      "metadata": {
        "colab": {
          "base_uri": "https://localhost:8080/"
        },
        "id": "F0dDVHB5nT2r",
        "outputId": "b0f859cd-faff-4bed-df2d-4ab21295c339"
      },
      "execution_count": null,
      "outputs": [
        {
          "output_type": "stream",
          "name": "stdout",
          "text": [
            "['False', 'None', 'True', 'and', 'as', 'assert', 'async', 'await', 'break', 'class', 'continue', 'def', 'del', 'elif', 'else', 'except', 'finally', 'for', 'from', 'global', 'if', 'import', 'in', 'is', 'lambda', 'nonlocal', 'not', 'or', 'pass', 'raise', 'return', 'try', 'while', 'with', 'yield']\n"
          ]
        }
      ]
    },
    {
      "cell_type": "code",
      "source": [
        "a = 10 # This is an assignment statement\n",
        "b = 10 # This is an assignment statement\n",
        "print(a + b) # a + b is an expression and print(a + b) is a statement\n"
      ],
      "metadata": {
        "colab": {
          "base_uri": "https://localhost:8080/"
        },
        "id": "arUVIEsnoZ9a",
        "outputId": "f3d398c2-7023-43ab-f5ba-8e82e7f0e5da"
      },
      "execution_count": null,
      "outputs": [
        {
          "output_type": "stream",
          "name": "stdout",
          "text": [
            "20\n"
          ]
        }
      ]
    },
    {
      "cell_type": "code",
      "source": [
        "a = -7 \n",
        "print(type(a)) # will print output as follows <class 'int'>\n"
      ],
      "metadata": {
        "colab": {
          "base_uri": "https://localhost:8080/"
        },
        "id": "E40-GOUBpc3s",
        "outputId": "7374e887-b06e-4bd7-f9fe-85c08fcf1a2c"
      },
      "execution_count": null,
      "outputs": [
        {
          "output_type": "stream",
          "name": "stdout",
          "text": [
            "<class 'int'>\n"
          ]
        }
      ]
    },
    {
      "cell_type": "code",
      "source": [
        "a = 3.0\n",
        "print(type(a)) # will print output as follows <class 'in"
      ],
      "metadata": {
        "colab": {
          "base_uri": "https://localhost:8080/"
        },
        "id": "iSvlPfPRqIdG",
        "outputId": "f119af12-a097-4986-a7ce-d0bab824d6ac"
      },
      "execution_count": null,
      "outputs": [
        {
          "output_type": "stream",
          "name": "stdout",
          "text": [
            "<class 'float'>\n"
          ]
        }
      ]
    },
    {
      "cell_type": "code",
      "source": [
        "a = 2 + 3j # It is important to note that there should not be any space between 3 and j\n",
        "print(type(a)) # will print output as follows\n"
      ],
      "metadata": {
        "colab": {
          "base_uri": "https://localhost:8080/"
        },
        "id": "MWG8dybEqYEr",
        "outputId": "37000a40-d822-49e2-f36c-9bcdd8e86b40"
      },
      "execution_count": null,
      "outputs": [
        {
          "output_type": "stream",
          "name": "stdout",
          "text": [
            "<class 'complex'>\n"
          ]
        }
      ]
    },
    {
      "cell_type": "code",
      "source": [
        "name = input(\"Enter your Name: \")\n",
        "print(\"User Name:\", name)\n"
      ],
      "metadata": {
        "colab": {
          "base_uri": "https://localhost:8080/"
        },
        "id": "G1wKgbD-rfR9",
        "outputId": "1712d43d-d4a4-491b-faad-79382a4a7c68"
      },
      "execution_count": null,
      "outputs": [
        {
          "output_type": "stream",
          "name": "stdout",
          "text": [
            "Enter your Name: Deebakar Sahi\n",
            "User Name: Deebakar Sahi\n"
          ]
        }
      ]
    },
    {
      "cell_type": "code",
      "source": [
        "a= int(input(\"Enter an integer :\"))\n",
        "print(a)\n"
      ],
      "metadata": {
        "colab": {
          "base_uri": "https://localhost:8080/"
        },
        "id": "l0r1gcbVr_4E",
        "outputId": "6f93ecf6-1454-4875-976d-acff0192c7b7"
      },
      "execution_count": null,
      "outputs": [
        {
          "output_type": "stream",
          "name": "stdout",
          "text": [
            "Enter an integer :10\n",
            "10\n"
          ]
        }
      ]
    },
    {
      "cell_type": "code",
      "source": [
        "a = 10\n",
        "b = 50\n",
        "print(\"A value is\", a, \"and\", \"B value is\", b) # will print output as follow\n"
      ],
      "metadata": {
        "colab": {
          "base_uri": "https://localhost:8080/"
        },
        "id": "AreukXUXsfuU",
        "outputId": "8a4bd964-34a2-4639-80dd-33319b458ed6"
      },
      "execution_count": null,
      "outputs": [
        {
          "output_type": "stream",
          "name": "stdout",
          "text": [
            "A value is 10 and B value is 50\n"
          ]
        }
      ]
    },
    {
      "cell_type": "code",
      "source": [
        "a = 10\n",
        "b = 20\n",
        "str = \"Hello\"\n",
        "print(\"The value of a = %d, b = %d and str = %s\" %(a, b, str))\n"
      ],
      "metadata": {
        "colab": {
          "base_uri": "https://localhost:8080/"
        },
        "id": "6PeFKHCetGTS",
        "outputId": "93d840ec-26a9-499a-95ec-8b06bcce6094"
      },
      "execution_count": null,
      "outputs": [
        {
          "output_type": "stream",
          "name": "stdout",
          "text": [
            "The value of a = 10, b = 20 and str = Hello\n"
          ]
        }
      ]
    },
    {
      "cell_type": "code",
      "source": [
        "a = 5 # variable a now refers to Integer data type\n",
        "print(\"  a is of  \", type(a))\n",
        "a = 90.45 # variable a now refers to Float data type\n",
        "print(\"  a is of  \", type(a))\n",
        "a = \"India\"  # variable a now refers to String data type\n",
        "print(\"  a is of  \", type(a))\n",
        "a = [5, 90.45, \"India\"]  # variable a now refers to List data type\n",
        "print(\"  a is of  \", type(a))\n"
      ],
      "metadata": {
        "colab": {
          "base_uri": "https://localhost:8080/"
        },
        "id": "Thg0rxUNuB9o",
        "outputId": "acb07ded-bbca-4085-e134-46ebef2868d1"
      },
      "execution_count": null,
      "outputs": [
        {
          "output_type": "stream",
          "name": "stdout",
          "text": [
            "  a is of   <class 'int'>\n",
            "  a is of   <class 'float'>\n",
            "  a is of   <class 'str'>\n",
            "  a is of   <class 'list'>\n"
          ]
        }
      ]
    },
    {
      "cell_type": "code",
      "source": [
        "# 1. Using single quotes (' ')\n",
        "str = 'Welcome To Python World'\n",
        "print(str)# will print output as follows\n"
      ],
      "metadata": {
        "colab": {
          "base_uri": "https://localhost:8080/"
        },
        "id": "pJrU8UrFvShy",
        "outputId": "1432ce46-91d6-476c-dce2-4994703dcdb1"
      },
      "execution_count": null,
      "outputs": [
        {
          "output_type": "stream",
          "name": "stdout",
          "text": [
            "Welcome To Python World\n"
          ]
        }
      ]
    },
    {
      "cell_type": "code",
      "source": [
        "sentence =  \"Welcome to Python's world\"\n",
        "print (sentence) # will print output as follows\n"
      ],
      "metadata": {
        "colab": {
          "base_uri": "https://localhost:8080/"
        },
        "id": "XfZ1L3QzvuCy",
        "outputId": "585c2624-8015-4911-a734-4c98c6d7106d"
      },
      "execution_count": null,
      "outputs": [
        {
          "output_type": "stream",
          "name": "stdout",
          "text": [
            "Welcome to Python's world\n"
          ]
        }
      ]
    },
    {
      "cell_type": "code",
      "source": [
        "list2 = [4, 5, \"hello\"]\n",
        "print(list2[1]) # prints the value present at 1st index in list2\n"
      ],
      "metadata": {
        "colab": {
          "base_uri": "https://localhost:8080/"
        },
        "id": "U4attjNvv6QA",
        "outputId": "88eed39d-3f0d-4b8a-f30e-bdee7f3e3805"
      },
      "execution_count": null,
      "outputs": [
        {
          "output_type": "stream",
          "name": "stdout",
          "text": [
            "5\n"
          ]
        }
      ]
    },
    {
      "cell_type": "code",
      "source": [
        "list2 = [4, 5, \"hello\"]\n",
        "print(list2[2][0]) # prints the value present at 1st index in list2\n"
      ],
      "metadata": {
        "colab": {
          "base_uri": "https://localhost:8080/"
        },
        "id": "8ju13NI8w0Yf",
        "outputId": "df47297d-fb1f-4ed6-b2be-19ca00e1172a"
      },
      "execution_count": null,
      "outputs": [
        {
          "output_type": "stream",
          "name": "stdout",
          "text": [
            "h\n"
          ]
        }
      ]
    },
    {
      "cell_type": "code",
      "source": [
        "l = [1, 4, 5, 7, 4, 15]\n",
        "print( l[2:6])\n"
      ],
      "metadata": {
        "colab": {
          "base_uri": "https://localhost:8080/"
        },
        "id": "PYKhOEV8xUtI",
        "outputId": "3613eb63-2cfd-4c14-981f-cf5874d438be"
      },
      "execution_count": null,
      "outputs": [
        {
          "output_type": "stream",
          "name": "stdout",
          "text": [
            "[5, 7, 4, 15]\n"
          ]
        }
      ]
    },
    {
      "cell_type": "code",
      "source": [],
      "metadata": {
        "id": "MMOg_SmJxhlc"
      },
      "execution_count": null,
      "outputs": []
    }
  ]
}